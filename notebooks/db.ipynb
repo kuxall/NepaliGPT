{
 "cells": [
  {
   "cell_type": "code",
   "execution_count": 2,
   "metadata": {},
   "outputs": [],
   "source": [
    "import sqlite3\n",
    "import pandas as pd\n"
   ]
  },
  {
   "cell_type": "code",
   "execution_count": 3,
   "metadata": {},
   "outputs": [],
   "source": [
    "conn = sqlite3.connect('rising_nepal_daily_all_news.db')\n"
   ]
  },
  {
   "cell_type": "code",
   "execution_count": 4,
   "metadata": {},
   "outputs": [],
   "source": [
    "## Use this approach if you don't know the table names\n",
    "query = \"SELECT name FROM sqlite_master WHERE type='table';\"\n",
    "tables = conn.execute(query).fetchall()"
   ]
  },
  {
   "cell_type": "code",
   "execution_count": 5,
   "metadata": {},
   "outputs": [
    {
     "data": {
      "text/plain": [
       "[('my_table',)]"
      ]
     },
     "execution_count": 5,
     "metadata": {},
     "output_type": "execute_result"
    }
   ],
   "source": [
    "tables"
   ]
  },
  {
   "cell_type": "code",
   "execution_count": 6,
   "metadata": {},
   "outputs": [],
   "source": [
    "## Now use the name of table\n",
    "query = \"SELECT * FROM my_table\"\n",
    "df = pd.read_sql(query, conn)"
   ]
  },
  {
   "cell_type": "code",
   "execution_count": 7,
   "metadata": {},
   "outputs": [
    {
     "data": {
      "text/html": [
       "<div>\n",
       "<style scoped>\n",
       "    .dataframe tbody tr th:only-of-type {\n",
       "        vertical-align: middle;\n",
       "    }\n",
       "\n",
       "    .dataframe tbody tr th {\n",
       "        vertical-align: top;\n",
       "    }\n",
       "\n",
       "    .dataframe thead th {\n",
       "        text-align: right;\n",
       "    }\n",
       "</style>\n",
       "<table border=\"1\" class=\"dataframe\">\n",
       "  <thead>\n",
       "    <tr style=\"text-align: right;\">\n",
       "      <th></th>\n",
       "      <th>website_name</th>\n",
       "      <th>category</th>\n",
       "      <th>title</th>\n",
       "      <th>authors</th>\n",
       "      <th>published_date</th>\n",
       "      <th>content</th>\n",
       "      <th>language</th>\n",
       "      <th>url</th>\n",
       "    </tr>\n",
       "  </thead>\n",
       "  <tbody>\n",
       "    <tr>\n",
       "      <th>0</th>\n",
       "      <td>The Rising Nepal</td>\n",
       "      <td>https://www.risingnepaldaily.com/categories/na...</td>\n",
       "      <td>PM Prachanda urges to redouble efforts to scal...</td>\n",
       "      <td>TRN Online</td>\n",
       "      <td>Mon, 24 July 2023</td>\n",
       "      <td>Kathmandu, July 24: Prime Minister Pushpa Kama...</td>\n",
       "      <td>English</td>\n",
       "      <td>https://www.risingnepaldaily.com/news/29883</td>\n",
       "    </tr>\n",
       "    <tr>\n",
       "      <th>1</th>\n",
       "      <td>The Rising Nepal</td>\n",
       "      <td>https://www.risingnepaldaily.com/categories/na...</td>\n",
       "      <td>BPKIHS launches 30-bed dengue ward over soarin...</td>\n",
       "      <td>TRN Online</td>\n",
       "      <td>Mon, 24 July 2023</td>\n",
       "      <td>Inaruwa, July 24  :  The BP Koirala Institute ...</td>\n",
       "      <td>English</td>\n",
       "      <td>https://www.risingnepaldaily.com/news/29871</td>\n",
       "    </tr>\n",
       "  </tbody>\n",
       "</table>\n",
       "</div>"
      ],
      "text/plain": [
       "       website_name                                           category  \\\n",
       "0  The Rising Nepal  https://www.risingnepaldaily.com/categories/na...   \n",
       "1  The Rising Nepal  https://www.risingnepaldaily.com/categories/na...   \n",
       "\n",
       "                                               title     authors  \\\n",
       "0  PM Prachanda urges to redouble efforts to scal...  TRN Online   \n",
       "1  BPKIHS launches 30-bed dengue ward over soarin...  TRN Online   \n",
       "\n",
       "        published_date                                            content  \\\n",
       "0   Mon, 24 July 2023   Kathmandu, July 24: Prime Minister Pushpa Kama...   \n",
       "1   Mon, 24 July 2023   Inaruwa, July 24  :  The BP Koirala Institute ...   \n",
       "\n",
       "  language                                          url  \n",
       "0  English  https://www.risingnepaldaily.com/news/29883  \n",
       "1  English  https://www.risingnepaldaily.com/news/29871  "
      ]
     },
     "execution_count": 7,
     "metadata": {},
     "output_type": "execute_result"
    }
   ],
   "source": [
    "df.head(2)"
   ]
  },
  {
   "cell_type": "code",
   "execution_count": null,
   "metadata": {},
   "outputs": [],
   "source": []
  }
 ],
 "metadata": {
  "kernelspec": {
   "display_name": "corpus",
   "language": "python",
   "name": "python3"
  },
  "language_info": {
   "codemirror_mode": {
    "name": "ipython",
    "version": 3
   },
   "file_extension": ".py",
   "mimetype": "text/x-python",
   "name": "python",
   "nbconvert_exporter": "python",
   "pygments_lexer": "ipython3",
   "version": "3.11.4"
  },
  "orig_nbformat": 4
 },
 "nbformat": 4,
 "nbformat_minor": 2
}
