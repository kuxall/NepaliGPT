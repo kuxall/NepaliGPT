{
 "cells": [
  {
   "cell_type": "code",
   "execution_count": 4,
   "metadata": {},
   "outputs": [],
   "source": [
    "import os\n",
    "\n",
    "# Define the folder and file names\n",
    "data_folder = \"../data\"\n",
    "output_files = [\n",
    "    \"nepali_c1.txt\",\n",
    "    \"nepali_c2.txt\",\n",
    "    \"nepali_c3.txt\",\n",
    "    \"nepali_c4.txt\",\n",
    "    \"nepali_c5.txt\",\n",
    "    \"nepali_c6.txt\",\n",
    "]\n",
    "\n",
    "total_num_sentences = 0\n",
    "total_total_words = 0\n",
    "total_total_chars = 0\n",
    "combined_unique_words = set()\n",
    "\n",
    "for output_file in output_files:\n",
    "    # Construct the full path to the output file\n",
    "    full_output_path = os.path.join(data_folder, output_file)\n",
    "\n",
    "    with open(full_output_path, \"r\", encoding=\"utf-8\") as file:\n",
    "        text = file.read()\n",
    "\n",
    "    sentences = text.split('।')\n",
    "\n",
    "    num_sentences = 0\n",
    "    total_words = 0\n",
    "    total_chars = 0\n",
    "    unique_words = set()\n",
    "\n",
    "    for sentence in sentences:\n",
    "        sentence = sentence.strip()\n",
    "        if sentence:\n",
    "            num_sentences += 1\n",
    "            words = sentence.split()\n",
    "            total_words += len(words)\n",
    "            total_chars += sum(len(word) for word in words)\n",
    "            unique_words.update(words)\n",
    "\n",
    "    total_num_sentences += num_sentences\n",
    "    total_total_words += total_words\n",
    "    total_total_chars += total_chars\n",
    "    combined_unique_words.update(unique_words)\n",
    "\n",
    "average_sentence_length_combined = total_total_words / total_num_sentences\n",
    "average_word_length_combined = total_total_chars / total_total_words\n",
    "vocab_size_combined = len(combined_unique_words)\n",
    "\n",
    "print(\"Total number of sentences across all files:\", total_num_sentences)\n",
    "print(\"Combined average sentence length (in words):\", average_sentence_length_combined)\n",
    "print(\"Combined average word length (in characters):\", average_word_length_combined)\n",
    "print(\"Combined vocabulary size (number of unique words):\", vocab_size_combined)\n"
   ]
  },
  {
   "cell_type": "markdown",
   "metadata": {},
   "source": [
    "\n",
    "*Total number of sentences across all files*\n",
    "* This is the sum of the number of sentences from all the specified files. It indicates the total count of individual sentences in all the files combined. \n"
   ]
  },
  {
   "cell_type": "markdown",
   "metadata": {},
   "source": [
    "*Combined average sentence length(in words)*\n",
    "* This is the average number of words per sentence across all the files."
   ]
  },
  {
   "cell_type": "markdown",
   "metadata": {},
   "source": [
    "*Combined average word length (in characters)*\n",
    "* This is the average number of characters per word across all the files. "
   ]
  },
  {
   "cell_type": "markdown",
   "metadata": {},
   "source": [
    "*Combined vocabulary size (number of unique words)*\n",
    "* This is the total count of unique words found in all the files combined. It represents the variety of words used throughout the text."
   ]
  },
  {
   "cell_type": "markdown",
   "metadata": {},
   "source": []
  }
 ],
 "metadata": {
  "kernelspec": {
   "display_name": "corpus",
   "language": "python",
   "name": "python3"
  },
  "language_info": {
   "codemirror_mode": {
    "name": "ipython",
    "version": 3
   },
   "file_extension": ".py",
   "mimetype": "text/x-python",
   "name": "python",
   "nbconvert_exporter": "python",
   "pygments_lexer": "ipython3",
   "version": "3.11.4"
  },
  "orig_nbformat": 4
 },
 "nbformat": 4,
 "nbformat_minor": 2
}
