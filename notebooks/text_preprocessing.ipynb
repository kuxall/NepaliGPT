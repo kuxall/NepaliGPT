{
 "cells": [
  {
   "cell_type": "code",
   "execution_count": 13,
   "metadata": {},
   "outputs": [],
   "source": [
    "import os\n",
    "import pandas as pd"
   ]
  },
  {
   "cell_type": "code",
   "execution_count": 14,
   "metadata": {},
   "outputs": [],
   "source": [
    "# import os\n",
    "# import pandas as pd\n",
    "\n",
    "# folder_path = \"../NepaliNewsPapers/NepaliDatasets6/\"\n",
    "\n",
    "# csv_files = [f for f in os.listdir(folder_path) if f.endswith('.csv')]\n",
    "\n",
    "# concatenated_data = []\n",
    "\n",
    "# for file in csv_files:\n",
    "#     file_path = os.path.join(folder_path, file)\n",
    "    \n",
    "#     dataset = pd.read_csv(file_path)\n",
    "    \n",
    "#     dataset = dataset.dropna(subset=['title', 'content'])\n",
    "    \n",
    "#     concatenated_data.extend((dataset['title'] + ' ' + dataset['content']).tolist())\n",
    "\n",
    "# output_file = '../data/nepali_c6.txt'\n",
    "\n",
    "# with open(output_file, 'w') as f:\n",
    "#     for row in concatenated_data:\n",
    "#         f.write(row + '\\n')\n",
    "\n",
    "# print(f\"Concatenated data saved in {output_file}\")\n"
   ]
  },
  {
   "cell_type": "code",
   "execution_count": 15,
   "metadata": {},
   "outputs": [
    {
     "name": "stdout",
     "output_type": "stream",
     "text": [
      "Number of rows in the file: 1275354\n"
     ]
    }
   ],
   "source": [
    "file_path = '../data/nepali_c1.txt'\n",
    "\n",
    "line_count = 0\n",
    "\n",
    "with open(file_path, 'r') as file:\n",
    "    for line in file:\n",
    "        line_count += 1\n",
    "\n",
    "print(f\"Number of rows in the file: {line_count}\")\n"
   ]
  },
  {
   "cell_type": "code",
   "execution_count": 16,
   "metadata": {},
   "outputs": [
    {
     "name": "stdout",
     "output_type": "stream",
     "text": [
      "Number of rows in the file: 94204\n"
     ]
    }
   ],
   "source": [
    "file_path = '../data/nepali_c2.txt'\n",
    "\n",
    "line_count = 0\n",
    "\n",
    "with open(file_path, 'r') as file:\n",
    "    for line in file:\n",
    "        line_count += 1\n",
    "\n",
    "print(f\"Number of rows in the file: {line_count}\")\n"
   ]
  },
  {
   "cell_type": "code",
   "execution_count": 17,
   "metadata": {},
   "outputs": [
    {
     "name": "stdout",
     "output_type": "stream",
     "text": [
      "Number of rows in the file: 160754\n"
     ]
    }
   ],
   "source": [
    "file_path = '../data/nepali_c3.txt'\n",
    "\n",
    "line_count = 0\n",
    "\n",
    "with open(file_path, 'r') as file:\n",
    "    for line in file:\n",
    "        line_count += 1\n",
    "\n",
    "print(f\"Number of rows in the file: {line_count}\")\n"
   ]
  },
  {
   "cell_type": "code",
   "execution_count": 18,
   "metadata": {},
   "outputs": [
    {
     "name": "stdout",
     "output_type": "stream",
     "text": [
      "Number of rows in the file: 88148\n"
     ]
    }
   ],
   "source": [
    "file_path = '../data/nepali_c4.txt'\n",
    "\n",
    "line_count = 0\n",
    "\n",
    "with open(file_path, 'r') as file:\n",
    "    for line in file:\n",
    "        line_count += 1\n",
    "\n",
    "print(f\"Number of rows in the file: {line_count}\")\n"
   ]
  },
  {
   "cell_type": "code",
   "execution_count": 19,
   "metadata": {},
   "outputs": [
    {
     "name": "stdout",
     "output_type": "stream",
     "text": [
      "Number of rows in the file: 847880\n"
     ]
    }
   ],
   "source": [
    "file_path = '../data/nepali_c5.txt'\n",
    "\n",
    "# Initialize a counter for the number of lines\n",
    "line_count = 0\n",
    "\n",
    "# Open the file and count the lines\n",
    "with open(file_path, 'r') as file:\n",
    "    for line in file:\n",
    "        line_count += 1\n",
    "\n",
    "print(f\"Number of rows in the file: {line_count}\")\n"
   ]
  },
  {
   "cell_type": "code",
   "execution_count": 20,
   "metadata": {},
   "outputs": [
    {
     "name": "stdout",
     "output_type": "stream",
     "text": [
      "Number of rows in the file: 1625802\n"
     ]
    }
   ],
   "source": [
    "file_path = '../data/nepali_c6.txt'\n",
    "\n",
    "# Initialize a counter for the number of lines\n",
    "line_count = 0\n",
    "\n",
    "# Open the file and count the lines\n",
    "with open(file_path, 'r') as file:\n",
    "    for line in file:\n",
    "        line_count += 1\n",
    "\n",
    "print(f\"Number of rows in the file: {line_count}\")\n"
   ]
  },
  {
   "cell_type": "code",
   "execution_count": 21,
   "metadata": {},
   "outputs": [
    {
     "name": "stdout",
     "output_type": "stream",
     "text": [
      "Total number of rows in total corpus that is inside the folder ./data/ is:  4092142\n"
     ]
    }
   ],
   "source": [
    "print(\"Total number of rows in total corpus that is inside the folder ./data/ is: \", 1275354 + 94204 + 160754 + 88148 + 847880 + 1625802)"
   ]
  },
  {
   "cell_type": "markdown",
   "metadata": {},
   "source": [
    "## The character occuring \"।\" means the end of a sentence. So by counting the occurence of this it gives the total number of sentences."
   ]
  },
  {
   "cell_type": "code",
   "execution_count": 22,
   "metadata": {},
   "outputs": [
    {
     "name": "stdout",
     "output_type": "stream",
     "text": [
      "The '।' character occurs 325988 times in the file 'nepali_c2.txt'.\n",
      "The '।' character occurs 636097 times in the file 'nepali_c3.txt'.\n",
      "The '।' character occurs 196317 times in the file 'nepali_c4.txt'.\n",
      "\n",
      "Total '।' character occurrences across all files: 1158402\n"
     ]
    }
   ],
   "source": [
    "import os\n",
<<<<<<< HEAD
    "import pandas as pd"
   ]
  },
  {
   "cell_type": "code",
   "execution_count": 14,
   "metadata": {},
   "outputs": [],
   "source": [
    "# import os\n",
    "# import pandas as pd\n",
    "\n",
    "# folder_path = \"../NepaliNewsPapers/NepaliDatasets6/\"\n",
    "\n",
    "# csv_files = [f for f in os.listdir(folder_path) if f.endswith('.csv')]\n",
    "\n",
    "# concatenated_data = []\n",
    "\n",
    "# for file in csv_files:\n",
    "#     file_path = os.path.join(folder_path, file)\n",
    "    \n",
    "#     dataset = pd.read_csv(file_path)\n",
    "    \n",
    "#     dataset = dataset.dropna(subset=['title', 'content'])\n",
    "    \n",
    "#     concatenated_data.extend((dataset['title'] + ' ' + dataset['content']).tolist())\n",
    "\n",
    "# output_file = '../data/nepali_c6.txt'\n",
    "\n",
    "# with open(output_file, 'w') as f:\n",
    "#     for row in concatenated_data:\n",
    "#         f.write(row + '\\n')\n",
    "\n",
    "# print(f\"Concatenated data saved in {output_file}\")\n"
=======
    "\n",
    "data_folder = \"../data\"\n",
    "\n",
    "output_files = [\n",
    "    # \"nepali_c1.txt\",\n",
    "    \"nepali_c2.txt\",\n",
    "    \"nepali_c3.txt\",\n",
    "    \"nepali_c4.txt\",\n",
    "    # \"nepali_c5.txt\",\n",
    "    # \"nepali_c6.txt\",\n",
    "]\n",
    "\n",
    "def count_vertical_bars_in_file(file_path):\n",
    "    count = 0\n",
    "    \n",
    "    with open(file_path, 'r', encoding='utf-8') as file:\n",
    "        for line in file:\n",
    "            count += line.count('।')\n",
    "    \n",
    "    return count\n",
    "\n",
    "total_bar_count = 0\n",
    "\n",
    "for output_file in output_files:\n",
    "    # Construct the full path to the output file\n",
    "    full_output_path = os.path.join(data_folder, output_file)\n",
    "    \n",
    "    bar_count = count_vertical_bars_in_file(full_output_path)\n",
    "    total_bar_count += bar_count\n",
    "    print(f\"The '।' character occurs {bar_count} times in the file '{output_file}'.\")\n",
    "print()\n",
    "print(f\"Total '।' character occurrences across all files: {total_bar_count}\")\n"
>>>>>>> 0d5cfcc (Update preprocessing notebooks)
   ]
  },
  {
   "cell_type": "markdown",
   "metadata": {},
   "source": [
<<<<<<< HEAD
    "file_path = '../data/nepali_c1.txt'\n",
    "\n",
    "line_count = 0\n",
    "\n",
    "with open(file_path, 'r') as file:\n",
    "    for line in file:\n",
    "        line_count += 1\n",
    "\n",
    "print(f\"Number of rows in the file: {line_count}\")\n"
=======
    "--------------------------------"
>>>>>>> 0d5cfcc (Update preprocessing notebooks)
   ]
  },
  {
   "cell_type": "markdown",
   "metadata": {},
<<<<<<< HEAD
   "outputs": [
    {
     "name": "stdout",
     "output_type": "stream",
     "text": [
      "Number of rows in the file: 94204\n"
     ]
    }
   ],
   "source": [
    "file_path = '../data/nepali_c2.txt'\n",
    "\n",
    "line_count = 0\n",
    "\n",
    "with open(file_path, 'r') as file:\n",
    "    for line in file:\n",
    "        line_count += 1\n",
    "\n",
    "print(f\"Number of rows in the file: {line_count}\")\n"
   ]
  },
  {
   "cell_type": "code",
   "execution_count": 17,
   "metadata": {},
   "outputs": [
    {
     "name": "stdout",
     "output_type": "stream",
     "text": [
      "Number of rows in the file: 160754\n"
     ]
    }
   ],
   "source": [
    "file_path = '../data/nepali_c3.txt'\n",
    "\n",
    "line_count = 0\n",
    "\n",
    "with open(file_path, 'r') as file:\n",
    "    for line in file:\n",
    "        line_count += 1\n",
    "\n",
    "print(f\"Number of rows in the file: {line_count}\")\n"
   ]
  },
  {
   "cell_type": "code",
   "execution_count": 18,
   "metadata": {},
   "outputs": [
    {
     "name": "stdout",
     "output_type": "stream",
     "text": [
      "Number of rows in the file: 88148\n"
     ]
    }
   ],
   "source": [
    "file_path = '../data/nepali_c4.txt'\n",
    "\n",
    "line_count = 0\n",
    "\n",
    "with open(file_path, 'r') as file:\n",
    "    for line in file:\n",
    "        line_count += 1\n",
    "\n",
    "print(f\"Number of rows in the file: {line_count}\")\n"
   ]
  },
  {
   "cell_type": "code",
   "execution_count": 19,
   "metadata": {},
   "outputs": [
    {
     "name": "stdout",
     "output_type": "stream",
     "text": [
      "Number of rows in the file: 847880\n"
     ]
    }
   ],
   "source": [
    "file_path = '../data/nepali_c5.txt'\n",
    "\n",
    "# Initialize a counter for the number of lines\n",
    "line_count = 0\n",
    "\n",
    "# Open the file and count the lines\n",
    "with open(file_path, 'r') as file:\n",
    "    for line in file:\n",
    "        line_count += 1\n",
    "\n",
    "print(f\"Number of rows in the file: {line_count}\")\n"
   ]
  },
  {
   "cell_type": "code",
   "execution_count": 20,
   "metadata": {},
   "outputs": [
    {
     "name": "stdout",
     "output_type": "stream",
     "text": [
      "Number of rows in the file: 1625802\n"
     ]
    }
   ],
   "source": [
    "file_path = '../data/nepali_c6.txt'\n",
    "\n",
    "# Initialize a counter for the number of lines\n",
    "line_count = 0\n",
    "\n",
    "# Open the file and count the lines\n",
    "with open(file_path, 'r') as file:\n",
    "    for line in file:\n",
    "        line_count += 1\n",
    "\n",
    "print(f\"Number of rows in the file: {line_count}\")\n"
   ]
  },
  {
   "cell_type": "code",
   "execution_count": 21,
   "metadata": {},
   "outputs": [
    {
     "name": "stdout",
     "output_type": "stream",
     "text": [
      "Total number of rows in total corpus that is inside the folder ./data/ is:  4092142\n"
     ]
    }
   ],
   "source": [
    "print(\"Total number of rows in total corpus that is inside the folder ./data/ is: \", 1275354 + 94204 + 160754 + 88148 + 847880 + 1625802)"
   ]
  },
  {
   "cell_type": "markdown",
   "metadata": {},
   "source": [
    "## The character occuring \"।\" means the end of a sentence. So by counting the occurence of this it gives the total number of sentences."
   ]
  },
  {
   "cell_type": "code",
   "execution_count": 22,
   "metadata": {},
   "outputs": [
    {
     "name": "stdout",
     "output_type": "stream",
     "text": [
      "The '।' character occurs 325988 times in the file 'nepali_c2.txt'.\n",
      "The '।' character occurs 636097 times in the file 'nepali_c3.txt'.\n",
      "The '।' character occurs 196317 times in the file 'nepali_c4.txt'.\n",
      "\n",
      "Total '।' character occurrences across all files: 1158402\n"
     ]
    }
   ],
   "source": [
    "import os\n",
    "\n",
    "data_folder = \"../data\"\n",
    "\n",
    "output_files = [\n",
    "    # \"nepali_c1.txt\",\n",
    "    \"nepali_c2.txt\",\n",
    "    \"nepali_c3.txt\",\n",
    "    \"nepali_c4.txt\",\n",
    "    # \"nepali_c5.txt\",\n",
    "    # \"nepali_c6.txt\",\n",
    "]\n",
    "\n",
    "def count_vertical_bars_in_file(file_path):\n",
    "    count = 0\n",
    "    \n",
    "    with open(file_path, 'r', encoding='utf-8') as file:\n",
    "        for line in file:\n",
    "            count += line.count('।')\n",
    "    \n",
    "    return count\n",
    "\n",
    "total_bar_count = 0\n",
    "\n",
    "for output_file in output_files:\n",
    "    # Construct the full path to the output file\n",
    "    full_output_path = os.path.join(data_folder, output_file)\n",
    "    \n",
    "    bar_count = count_vertical_bars_in_file(full_output_path)\n",
    "    total_bar_count += bar_count\n",
    "    print(f\"The '।' character occurs {bar_count} times in the file '{output_file}'.\")\n",
    "print()\n",
    "print(f\"Total '।' character occurrences across all files: {total_bar_count}\")\n"
=======
   "source": [
    "-------------"
>>>>>>> 0d5cfcc (Update preprocessing notebooks)
   ]
  },
  {
   "cell_type": "markdown",
   "metadata": {},
   "source": [
<<<<<<< HEAD
    "--------------------------------"
=======
    "-------------"
>>>>>>> 0d5cfcc (Update preprocessing notebooks)
   ]
  }
 ],
 "metadata": {
  "kernelspec": {
   "display_name": "corpus",
   "language": "python",
   "name": "python3"
  },
  "language_info": {
   "codemirror_mode": {
    "name": "ipython",
    "version": 3
   },
   "file_extension": ".py",
   "mimetype": "text/x-python",
   "name": "python",
   "nbconvert_exporter": "python",
   "pygments_lexer": "ipython3",
   "version": "3.11.4"
  },
  "orig_nbformat": 4
 },
 "nbformat": 4,
 "nbformat_minor": 2
}
