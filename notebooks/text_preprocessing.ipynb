{
 "cells": [
  {
   "cell_type": "code",
   "execution_count": null,
   "metadata": {
    "vscode": {
     "languageId": "plaintext"
    }
   },
   "outputs": [],
   "source": [
    "import os\n",
    "import pandas as pd\n"
   ]
  },
  {
   "cell_type": "code",
   "execution_count": null,
   "metadata": {
    "vscode": {
     "languageId": "plaintext"
    }
   },
   "outputs": [],
   "source": []
  },
  {
   "cell_type": "code",
   "execution_count": null,
   "metadata": {},
   "outputs": [],
   "source": [
    "import os\n",
    "import pandas as pd\n",
    "\n",
    "folder_path = \"../NepaliNewsPapers/NepaliDatasets6/\"\n",
    "\n",
    "csv_files = [f for f in os.listdir(folder_path) if f.endswith('.csv')]\n",
    "\n",
    "concatenated_data = []\n",
    "\n",
    "for file in csv_files:\n",
    "    file_path = os.path.join(folder_path, file)\n",
    "    \n",
    "    dataset = pd.read_csv(file_path)\n",
    "    \n",
    "    dataset = dataset.dropna(subset=['title', 'content'])\n",
    "    \n",
    "    concatenated_data.extend((dataset['title'] + ' ' + dataset['content']).tolist())\n",
    "\n",
    "output_file = '../data/nepali_c6.txt'\n",
    "\n",
    "with open(output_file, 'w') as f:\n",
    "    for row in concatenated_data:\n",
    "        f.write(row + '\\n')\n",
    "\n",
    "print(f\"Concatenated data saved in {output_file}\")\n"
   ]
  },
  {
   "cell_type": "code",
   "execution_count": null,
   "metadata": {},
   "outputs": [],
   "source": [
    "file_path = '../data/nepali_c1.txt'\n",
    "\n",
    "line_count = 0\n",
    "\n",
    "with open(file_path, 'r') as file:\n",
    "    for line in file:\n",
    "        line_count += 1\n",
    "\n",
    "print(f\"Number of rows in the file: {line_count}\")\n"
   ]
  },
  {
   "cell_type": "code",
   "execution_count": null,
   "metadata": {},
   "outputs": [],
   "source": [
    "file_path = '../data/nepali_c2.txt'\n",
    "\n",
    "line_count = 0\n",
    "\n",
    "with open(file_path, 'r') as file:\n",
    "    for line in file:\n",
    "        line_count += 1\n",
    "\n",
    "print(f\"Number of rows in the file: {line_count}\")\n"
   ]
  },
  {
   "cell_type": "code",
   "execution_count": null,
   "metadata": {},
   "outputs": [],
   "source": [
    "print(\"Total number of rows in total corpus that is inside the folder ./data/ is: \", 1275354 + 94204 + 160754 + 88148 + 847880 + 1625802)\n"
   ]
  },
  {
   "cell_type": "code",
   "execution_count": null,
   "metadata": {},
   "outputs": [],
   "source": [
    "import os\n",
    "\n",
    "data_folder = \"../data\"\n",
    "\n",
    "output_files = [\n",
    "    # \"nepali_c1.txt\",\n",
    "    \"nepali_c2.txt\",\n",
    "    \"nepali_c3.txt\",\n",
    "    \"nepali_c4.txt\",\n",
    "    # \"nepali_c5.txt\",\n",
    "    # \"nepali_c6.txt\",\n",
    "]\n",
    "\n",
    "def count_vertical_bars_in_file(file_path):\n",
    "    count = 0\n",
    "    \n",
    "    with open(file_path, 'r', encoding='utf-8') as file:\n",
    "        for line in file:\n",
    "            count += line.count('।')\n",
    "    \n",
    "    return count\n",
    "\n",
    "total_bar_count = 0\n",
    "\n",
    "for output_file in output_files:\n",
    "    # Construct the full path to the output file\n",
    "    full_output_path = os.path.join(data_folder, output_file)\n",
    "    \n",
    "    bar_count = count_vertical_bars_in_file(full_output_path)\n",
    "    total_bar_count += bar_count\n",
    "    print(f\"The '।' character occurs {bar_count} times in the file '{output_file}'.\")\n",
    "print()\n",
    "print(f\"Total '।' character occurrences across all files: {total_bar_count}\")\n"
   ]
  }
 ],
 "metadata": {
  "language_info": {
   "name": "python"
  }
 },
 "nbformat": 4,
 "nbformat_minor": 2
}
